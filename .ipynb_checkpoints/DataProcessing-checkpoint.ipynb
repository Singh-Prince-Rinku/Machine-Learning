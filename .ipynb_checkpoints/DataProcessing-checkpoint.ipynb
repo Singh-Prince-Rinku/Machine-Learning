{
 "cells": [
  {
   "cell_type": "code",
   "execution_count": 2,
   "metadata": {},
   "outputs": [
    {
     "name": "stderr",
     "output_type": "stream",
     "text": [
      "C:\\Users\\princ\\AppData\\Local\\Temp\\ipykernel_7668\\118197663.py:2: DeprecationWarning: \n",
      "Pyarrow will become a required dependency of pandas in the next major release of pandas (pandas 3.0),\n",
      "(to allow more performant data types, such as the Arrow string type, and better interoperability with other libraries)\n",
      "but was not found to be installed on your system.\n",
      "If this would cause problems for you,\n",
      "please provide us feedback at https://github.com/pandas-dev/pandas/issues/54466\n",
      "        \n",
      "  import pandas as pd\n"
     ]
    }
   ],
   "source": [
    "import numpy as np \n",
    "import pandas as pd"
   ]
  },
  {
   "cell_type": "code",
   "execution_count": 9,
   "metadata": {},
   "outputs": [
    {
     "name": "stdout",
     "output_type": "stream",
     "text": [
      "[[ 55.   0. 748. ...   1.  88.   0.]\n",
      " [ 65.   0.  56. ...   0. 207.   0.]\n",
      " [ 45.   0. 582. ...   0. 244.   0.]\n",
      " ...\n",
      " [ 95.   1. 112. ...   0.  24.   1.]\n",
      " [ 65.   1. 160. ...   0.   8.   1.]\n",
      " [ 40.   0. 244. ...   0. 174.   0.]]\n"
     ]
    }
   ],
   "source": [
    "data = pd.read_csv(\"HeartFailure.csv\").values\n",
    "print(data)"
   ]
  },
  {
   "cell_type": "code",
   "execution_count": 18,
   "metadata": {},
   "outputs": [],
   "source": [
    "column_names = ['age', 'creatinine_phosphokinase', 'diabetes', 'ejection_fraction', 'high_blood_pressure', 'platelets', 'serum_sodium', 'sex', 'smoking', 'time']\n"
   ]
  },
  {
   "cell_type": "code",
   "execution_count": 28,
   "metadata": {},
   "outputs": [],
   "source": [
    "data = np.random.rand(5000, 10) "
   ]
  },
  {
   "cell_type": "code",
   "execution_count": 29,
   "metadata": {},
   "outputs": [],
   "source": [
    "data_df = pd.DataFrame(data, columns=column_names)"
   ]
  },
  {
   "cell_type": "code",
   "execution_count": 24,
   "metadata": {},
   "outputs": [],
   "source": [
    "independent = data_df[['age', 'creatinine_phosphokinase', 'diabetes', 'ejection_fraction', 'high_blood_pressure', 'platelets', 'serum_sodium', 'sex', 'smoking', 'time']]"
   ]
  },
  {
   "cell_type": "code",
   "execution_count": 25,
   "metadata": {},
   "outputs": [
    {
     "name": "stdout",
     "output_type": "stream",
     "text": [
      "           age  creatinine_phosphokinase  diabetes  ejection_fraction  \\\n",
      "0     0.534766                  0.288599  0.297283           0.739543   \n",
      "1     0.722763                  0.952477  0.099307           0.607418   \n",
      "2     0.493310                  0.991252  0.077575           0.306479   \n",
      "3     0.826632                  0.402378  0.706284           0.227751   \n",
      "4     0.739107                  0.267470  0.308080           0.815305   \n",
      "...        ...                       ...       ...                ...   \n",
      "4995  0.348113                  0.860245  0.222560           0.948370   \n",
      "4996  0.598914                  0.472043  0.846543           0.513650   \n",
      "4997  0.167120                  0.449538  0.739574           0.930739   \n",
      "4998  0.929252                  0.896077  0.378298           0.133021   \n",
      "4999  0.218159                  0.375507  0.275402           0.713078   \n",
      "\n",
      "      high_blood_pressure  platelets  serum_sodium       sex   smoking  \\\n",
      "0                0.435317   0.389648      0.424654  0.189945  0.832040   \n",
      "1                0.598438   0.066266      0.880048  0.402164  0.241653   \n",
      "2                0.069103   0.425246      0.576383  0.293148  0.843660   \n",
      "3                0.114556   0.135796      0.354157  0.875122  0.502295   \n",
      "4                0.913508   0.520218      0.690699  0.778974  0.998216   \n",
      "...                   ...        ...           ...       ...       ...   \n",
      "4995             0.697560   0.937525      0.144342  0.632127  0.937356   \n",
      "4996             0.101694   0.718352      0.385889  0.004263  0.027403   \n",
      "4997             0.175468   0.597372      0.715652  0.171748  0.575324   \n",
      "4998             0.907265   0.815762      0.087611  0.069013  0.218672   \n",
      "4999             0.117414   0.740463      0.406603  0.994507  0.397937   \n",
      "\n",
      "          time  \n",
      "0     0.916153  \n",
      "1     0.551555  \n",
      "2     0.383924  \n",
      "3     0.018192  \n",
      "4     0.848756  \n",
      "...        ...  \n",
      "4995  0.442680  \n",
      "4996  0.263596  \n",
      "4997  0.657685  \n",
      "4998  0.060647  \n",
      "4999  0.415211  \n",
      "\n",
      "[5000 rows x 10 columns]\n"
     ]
    }
   ],
   "source": [
    "print(independent)"
   ]
  },
  {
   "cell_type": "code",
   "execution_count": null,
   "metadata": {},
   "outputs": [],
   "source": []
  }
 ],
 "metadata": {
  "kernelspec": {
   "display_name": "Python 3",
   "language": "python",
   "name": "python3"
  },
  "language_info": {
   "codemirror_mode": {
    "name": "ipython",
    "version": 3
   },
   "file_extension": ".py",
   "mimetype": "text/x-python",
   "name": "python",
   "nbconvert_exporter": "python",
   "pygments_lexer": "ipython3",
   "version": "3.12.2"
  }
 },
 "nbformat": 4,
 "nbformat_minor": 2
}
