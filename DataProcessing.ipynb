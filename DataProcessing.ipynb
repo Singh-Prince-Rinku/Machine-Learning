{
 "cells": [
  {
   "cell_type": "code",
   "execution_count": 2,
   "metadata": {},
   "outputs": [
    {
     "name": "stderr",
     "output_type": "stream",
     "text": [
      "C:\\Users\\princ\\AppData\\Local\\Temp\\ipykernel_2392\\118197663.py:2: DeprecationWarning: \n",
      "Pyarrow will become a required dependency of pandas in the next major release of pandas (pandas 3.0),\n",
      "(to allow more performant data types, such as the Arrow string type, and better interoperability with other libraries)\n",
      "but was not found to be installed on your system.\n",
      "If this would cause problems for you,\n",
      "please provide us feedback at https://github.com/pandas-dev/pandas/issues/54466\n",
      "        \n",
      "  import pandas as pd\n"
     ]
    }
   ],
   "source": [
    "import numpy as np \n",
    "import pandas as pd"
   ]
  },
  {
   "cell_type": "code",
   "execution_count": 3,
   "metadata": {},
   "outputs": [
    {
     "name": "stdout",
     "output_type": "stream",
     "text": [
      "[[ 55.   0. 748. ...   1.  88.   0.]\n",
      " [ 65.   0.  56. ...   0. 207.   0.]\n",
      " [ 45.   0. 582. ...   0. 244.   0.]\n",
      " ...\n",
      " [ 95.   1. 112. ...   0.  24.   1.]\n",
      " [ 65.   1. 160. ...   0.   8.   1.]\n",
      " [ 40.   0. 244. ...   0. 174.   0.]]\n"
     ]
    }
   ],
   "source": [
    "data = pd.read_csv(\"HeartFailure.csv\").values\n",
    "print(data)"
   ]
  },
  {
   "cell_type": "code",
   "execution_count": 24,
   "metadata": {},
   "outputs": [],
   "source": [
    "column_names = ['age', 'creatinine_phosphokinase', 'diabetes', 'ejection_fraction', 'high_blood_pressure', 'platelets', 'serum_sodium', 'sex', 'smoking', 'time','DEATH_EVENT']\n"
   ]
  },
  {
   "cell_type": "code",
   "execution_count": 27,
   "metadata": {},
   "outputs": [],
   "source": [
    "data = np.random.rand(5000, 11) "
   ]
  },
  {
   "cell_type": "code",
   "execution_count": 28,
   "metadata": {},
   "outputs": [],
   "source": [
    "data_df = pd.DataFrame(data, columns=column_names)"
   ]
  },
  {
   "cell_type": "code",
   "execution_count": 37,
   "metadata": {},
   "outputs": [],
   "source": [
    "independent = data_df[['age', 'creatinine_phosphokinase', 'diabetes', 'ejection_fraction', 'high_blood_pressure', 'platelets', 'serum_sodium', 'sex', 'smoking', 'time']].values"
   ]
  },
  {
   "cell_type": "code",
   "execution_count": 39,
   "metadata": {},
   "outputs": [
    {
     "name": "stdout",
     "output_type": "stream",
     "text": [
      "[[0.18381807 0.74950593 0.53155854 ... 0.0470865  0.61619708 0.72623351]\n",
      " [0.93828199 0.34322641 0.90316549 ... 0.9877558  0.21006478 0.96472598]\n",
      " [0.32814192 0.73080487 0.84599705 ... 0.79283928 0.58092849 0.62159431]\n",
      " ...\n",
      " [0.31152603 0.91055396 0.72614601 ... 0.89081342 0.84959756 0.67800436]\n",
      " [0.43024277 0.58235    0.67128704 ... 0.89899242 0.67708045 0.79890993]\n",
      " [0.1415537  0.45138742 0.77951764 ... 0.74014144 0.64885648 0.3688576 ]]\n"
     ]
    }
   ],
   "source": [
    "print(independent)"
   ]
  },
  {
   "cell_type": "code",
   "execution_count": 31,
   "metadata": {},
   "outputs": [
    {
     "name": "stdout",
     "output_type": "stream",
     "text": [
      "Index(['age', 'creatinine_phosphokinase', 'diabetes', 'ejection_fraction',\n",
      "       'high_blood_pressure', 'platelets', 'serum_sodium', 'sex', 'smoking',\n",
      "       'time', 'DEATH_EVENT'],\n",
      "      dtype='object')\n"
     ]
    }
   ],
   "source": [
    "print(data_df.columns)"
   ]
  },
  {
   "cell_type": "code",
   "execution_count": 35,
   "metadata": {},
   "outputs": [],
   "source": [
    "dependent = data_df[['DEATH_EVENT']].values"
   ]
  },
  {
   "cell_type": "code",
   "execution_count": 36,
   "metadata": {},
   "outputs": [
    {
     "name": "stdout",
     "output_type": "stream",
     "text": [
      "[[0.05018268]\n",
      " [0.53873932]\n",
      " [0.82639783]\n",
      " ...\n",
      " [0.50476145]\n",
      " [0.73759121]\n",
      " [0.30915675]]\n"
     ]
    }
   ],
   "source": [
    "print(dependent)"
   ]
  },
  {
   "cell_type": "code",
   "execution_count": 40,
   "metadata": {},
   "outputs": [],
   "source": [
    "import sklearn\n",
    "from sklearn.impute import SimpleImputer"
   ]
  },
  {
   "cell_type": "code",
   "execution_count": 41,
   "metadata": {},
   "outputs": [],
   "source": [
    "imputer = SimpleImputer(missing_values=np.nan, strategy='mean')"
   ]
  },
  {
   "cell_type": "code",
   "execution_count": 42,
   "metadata": {},
   "outputs": [],
   "source": [
    "impute=imputer.fit(independent[:,1:10])"
   ]
  },
  {
   "cell_type": "code",
   "execution_count": 43,
   "metadata": {},
   "outputs": [],
   "source": [
    "independent[:,1:10]=impute.transform(independent[:,1:10])"
   ]
  },
  {
   "cell_type": "code",
   "execution_count": 44,
   "metadata": {},
   "outputs": [
    {
     "data": {
      "text/plain": [
       "array([[0.18381807, 0.74950593, 0.53155854, ..., 0.0470865 , 0.61619708,\n",
       "        0.72623351],\n",
       "       [0.93828199, 0.34322641, 0.90316549, ..., 0.9877558 , 0.21006478,\n",
       "        0.96472598],\n",
       "       [0.32814192, 0.73080487, 0.84599705, ..., 0.79283928, 0.58092849,\n",
       "        0.62159431],\n",
       "       ...,\n",
       "       [0.31152603, 0.91055396, 0.72614601, ..., 0.89081342, 0.84959756,\n",
       "        0.67800436],\n",
       "       [0.43024277, 0.58235   , 0.67128704, ..., 0.89899242, 0.67708045,\n",
       "        0.79890993],\n",
       "       [0.1415537 , 0.45138742, 0.77951764, ..., 0.74014144, 0.64885648,\n",
       "        0.3688576 ]])"
      ]
     },
     "execution_count": 44,
     "metadata": {},
     "output_type": "execute_result"
    }
   ],
   "source": [
    "independent"
   ]
  },
  {
   "cell_type": "code",
   "execution_count": null,
   "metadata": {},
   "outputs": [],
   "source": []
  }
 ],
 "metadata": {
  "kernelspec": {
   "display_name": "Python 3",
   "language": "python",
   "name": "python3"
  },
  "language_info": {
   "codemirror_mode": {
    "name": "ipython",
    "version": 3
   },
   "file_extension": ".py",
   "mimetype": "text/x-python",
   "name": "python",
   "nbconvert_exporter": "python",
   "pygments_lexer": "ipython3",
   "version": "3.12.2"
  }
 },
 "nbformat": 4,
 "nbformat_minor": 2
}
