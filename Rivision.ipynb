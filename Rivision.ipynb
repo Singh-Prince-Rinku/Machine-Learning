{
 "cells": [
  {
   "cell_type": "code",
   "execution_count": 4,
   "metadata": {},
   "outputs": [
    {
     "name": "stdout",
     "output_type": "stream",
     "text": [
      "[ 36  37 112  99  79]\n"
     ]
    }
   ],
   "source": [
    "import numpy as np \n",
    "x = np.array([2,3,56,67,67])\n",
    "y = np.array([34,34,56,32,12])\n",
    "print(x+y)"
   ]
  },
  {
   "cell_type": "code",
   "execution_count": 30,
   "metadata": {},
   "outputs": [
    {
     "name": "stdout",
     "output_type": "stream",
     "text": [
      "2\n",
      "4\n",
      "6\n",
      "6\n",
      "8\n",
      "10\n",
      "8\n",
      "12\n",
      "14\n"
     ]
    }
   ],
   "source": [
    "x=[[1,2,3],[3,4,5],[4,6,7]]\n",
    "y=[[1,2,3],[3,4,5],[4,6,7]]\n",
    "for i in range (len(x)):\n",
    "    for j in range (len(y)):\n",
    "        print(x[i][j] + y[i][j])\n",
    "        \n"
   ]
  },
  {
   "cell_type": "code",
   "execution_count": 35,
   "metadata": {},
   "outputs": [
    {
     "name": "stdout",
     "output_type": "stream",
     "text": [
      "12 \t\n",
      "280 \t\n",
      "390 \t\n"
     ]
    }
   ],
   "source": [
    "a = [[1, 2, 3], [3, 4, 5], [4, 5, 6]]\n",
    "b = [[1, 2, 3], [3, 4, 5], [4, 56, 65]]\n",
    "\n",
    "k = [[0 for _ in range(len(b[0]))] for _ in range(len(a))]\n",
    "\n",
    "\n",
    "for i in range(len(a)):\n",
    "    for j in range(len(b[0])):\n",
    "        k[i][j] = a[i][j] * b[j][i]\n",
    "    print(k[i][j],)\n"
   ]
  },
  {
   "cell_type": "markdown",
   "metadata": {},
   "source": [
    "# SciPy Sparse Matrix in CSR format"
   ]
  },
  {
   "cell_type": "code",
   "execution_count": 38,
   "metadata": {},
   "outputs": [
    {
     "name": "stdout",
     "output_type": "stream",
     "text": [
      "numpy arrays \n",
      "[[1. 0. 0. 0. 0. 0. 0. 0. 0. 0.]\n",
      " [0. 1. 0. 0. 0. 0. 0. 0. 0. 0.]\n",
      " [0. 0. 1. 0. 0. 0. 0. 0. 0. 0.]\n",
      " [0. 0. 0. 1. 0. 0. 0. 0. 0. 0.]\n",
      " [0. 0. 0. 0. 1. 0. 0. 0. 0. 0.]\n",
      " [0. 0. 0. 0. 0. 1. 0. 0. 0. 0.]\n",
      " [0. 0. 0. 0. 0. 0. 1. 0. 0. 0.]\n",
      " [0. 0. 0. 0. 0. 0. 0. 1. 0. 0.]\n",
      " [0. 0. 0. 0. 0. 0. 0. 0. 1. 0.]\n",
      " [0. 0. 0. 0. 0. 0. 0. 0. 0. 1.]]\n"
     ]
    }
   ],
   "source": [
    "a = np.eye(10)\n",
    "print(\"numpy arrays \\n{}\".format(a))"
   ]
  },
  {
   "cell_type": "code",
   "execution_count": null,
   "metadata": {},
   "outputs": [],
   "source": []
  }
 ],
 "metadata": {
  "kernelspec": {
   "display_name": "Python 3",
   "language": "python",
   "name": "python3"
  },
  "language_info": {
   "codemirror_mode": {
    "name": "ipython",
    "version": 3
   },
   "file_extension": ".py",
   "mimetype": "text/x-python",
   "name": "python",
   "nbconvert_exporter": "python",
   "pygments_lexer": "ipython3",
   "version": "3.12.2"
  }
 },
 "nbformat": 4,
 "nbformat_minor": 2
}
